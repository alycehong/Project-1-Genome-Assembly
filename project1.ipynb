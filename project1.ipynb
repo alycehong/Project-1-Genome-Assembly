{
 "cells": [
  {
   "cell_type": "markdown",
   "id": "7da87395",
   "metadata": {},
   "source": [
    "# Project 1: Assembling Genomes"
   ]
  },
  {
   "cell_type": "markdown",
   "id": "a9645da6",
   "metadata": {},
   "source": [
    "\n",
    "   <div class=\"alert alert-block alert-danger\">\n",
    "    <center>Due: <b>Tuesday, 8 February, 4:59pm</b>.</center> \n",
    "   </div>\n",
    "   \n",
    "   <div class=\"alert alert-block alert-warning\">\n",
    "   <center>\n",
    "       <b>Collaboration and Resource Policy</b>\n",
    "    </center>\n",
    "    For this assignment, you are encouraged to work with one other person. Your team must satisfy the constraints mentioned in <a href=\"https://www.dropbox.com/s/g6z2xncwc4jsplp/csbio-class2-inked.pdf?dl=0\">Class 2</a>.\n",
    "    \n",
    "   1. You went to different high schools.\n",
    "   2. You and your partner have different answers to <em>at least one</em> of these questions:\n",
    "       - What country were you born in?\n",
    "       - Have you taken any biology courses at UVA?\n",
    "       - Have you taken cs3102?\n",
    "       - Have you taken cs4102?\n",
    "    \n",
    "We expect most students will have the best learning experience on this assignment by working with a partner, but if you prefer to work alone it is okay to do this assignment on your own.\n",
    "    \n",
    "You are permitted (actually _encouraged_) to discuss these problems with anyone you want, including other students in the class. If you do discuss the specific questions in the assignment with anyone other than your assignment partner and the course staff, though, you should list them in the _External resources used_ section below.\n",
    "    \n",
    "You are welcome to use any resources you want for this assignment, other than ones that would defeat the purpose of the assignment. This means you should not look at answers or code from any other students in the class (other than your collaboration with your partner), and if you find code that implements the problem you are being asked to do for the assignment, you should not use that code. You should document all external resource you use that are not part of the course materials in the _External resources used_ section below."
   ]
  },
  {
   "cell_type": "markdown",
   "id": "14179769",
   "metadata": {},
   "source": [
    "**Team submitting this assignment:**  \n",
    "<div class=\"alert alert-success\">\n",
    "    <b><em>list each member of your team here, including both your name and UVA computing id</em></b>\n",
    "</div>\n",
    "\n",
    "**External resources used:** \n",
    "<div class=\"alert alert-success\">\n",
    "<em>It is not necessary to list the course materials, but if you used any other resources, including discussing problems with students not on your team, list them here.</em>\n",
    "</div>"
   ]
  },
  {
   "cell_type": "markdown",
   "id": "57bc46a1",
   "metadata": {},
   "source": [
    "In this project, we will explore genome assembly — the process of determining the order of nucleotides from fragmented reads that are produced by sequencing machines. \n",
    "\n",
    "Genome assembly maps to a very well defined computer science problem, but can get quite complicated, as problems such as full sequence coverage, finding a good length for reads (the $k$ in $k$-mer), and sequencing errors present challenges for sequencing analysis and accuracy. For the required problems (ones everyone is expected to solve), you will be able to assume perfect coverage and no read errors; for the \"challenge\" problem (that is considered a bonus, and not something we expect everyone to be able to solve, and perhaps may not even be feasible for anyone to solve) you will not be able to rely on such assumptions."
   ]
  },
  {
   "cell_type": "markdown",
   "id": "b701651a",
   "metadata": {},
   "source": [
    " <div class=\"alert alert-block alert-warning\">\n",
    "    \n",
    "<b>Submission</b>: You should work on this assignment by forking the provided Project 1 repository (you probably already did this, following the instructions posted at [https://computingbiology.github.io/project1](https://computingbiology.github.io/project1). Add the other teammate to as a collaborator with write access (also under the Settings tab) to this repository.\n",
    "    \n",
    "You should answer the questions and write your code in this Jupyter Notebook. (We don't expect you to need to use any external files or organize your code outside of the notebook, but if you do, make sure to put everything needed to run your code in your repository.) Parts where you are expected to provide and answer (which could be text that can be written in markdown format in the notebook or Python code that runs in the notebook) are marked in green.\n",
    "        \n",
    "When you are ready to submit the assignment, you should create a release of the version you are submitting ([github's directions for how to create a release](https://docs.github.com/en/repositories/releasing-projects-on-github/managing-releases-in-a-repository)) tagged as `submit`. After you've done this, send a message in slack to a channel that includes both team members (so the one sending this message should include the other team member) and all of the course staff (`dave`, `Hyun Jae Cho`, and `Anshuman Suri`) and a link to your repository (feel free to add any other useful comments if you want, but the link to your submission repository is sufficient)."
   ]
  },
  {
   "cell_type": "markdown",
   "id": "6ddc5cc5",
   "metadata": {},
   "source": [
    "## Getting Started"
   ]
  },
  {
   "cell_type": "markdown",
   "id": "65e42801",
   "metadata": {},
   "source": [
    "1. Install basic required packages, should be run only once. You may need to restart the jupyter python kernel (under the Kernel menu) after this. (You can execute this directly in the notebook but running the command below.)"
   ]
  },
  {
   "cell_type": "code",
   "execution_count": 1,
   "id": "9df18fe5",
   "metadata": {},
   "outputs": [
    {
     "name": "stdout",
     "output_type": "stream",
     "text": [
      "Requirement already satisfied: gvmagic in /Library/Frameworks/Python.framework/Versions/3.9/lib/python3.9/site-packages (from -r requirements.txt (line 1)) (0.5)\n",
      "Requirement already satisfied: numpy in /Library/Frameworks/Python.framework/Versions/3.9/lib/python3.9/site-packages (from -r requirements.txt (line 2)) (1.21.2)\n",
      "Requirement already satisfied: matplotlib in /Library/Frameworks/Python.framework/Versions/3.9/lib/python3.9/site-packages (from -r requirements.txt (line 3)) (3.4.3)\n",
      "Requirement already satisfied: pydot in /Library/Frameworks/Python.framework/Versions/3.9/lib/python3.9/site-packages (from -r requirements.txt (line 4)) (1.4.2)\n",
      "Requirement already satisfied: kiwisolver>=1.0.1 in /Library/Frameworks/Python.framework/Versions/3.9/lib/python3.9/site-packages (from matplotlib->-r requirements.txt (line 3)) (1.3.2)\n",
      "Requirement already satisfied: python-dateutil>=2.7 in /Library/Frameworks/Python.framework/Versions/3.9/lib/python3.9/site-packages (from matplotlib->-r requirements.txt (line 3)) (2.8.2)\n",
      "Requirement already satisfied: pyparsing>=2.2.1 in /Library/Frameworks/Python.framework/Versions/3.9/lib/python3.9/site-packages (from matplotlib->-r requirements.txt (line 3)) (2.4.7)\n",
      "Requirement already satisfied: pillow>=6.2.0 in /Library/Frameworks/Python.framework/Versions/3.9/lib/python3.9/site-packages (from matplotlib->-r requirements.txt (line 3)) (8.3.2)\n",
      "Requirement already satisfied: cycler>=0.10 in /Library/Frameworks/Python.framework/Versions/3.9/lib/python3.9/site-packages (from matplotlib->-r requirements.txt (line 3)) (0.10.0)\n",
      "Requirement already satisfied: six in /Library/Frameworks/Python.framework/Versions/3.9/lib/python3.9/site-packages (from cycler>=0.10->matplotlib->-r requirements.txt (line 3)) (1.16.0)\n",
      "\u001b[33mWARNING: You are using pip version 21.1.1; however, version 22.0.3 is available.\n",
      "You should consider upgrading via the '/Library/Frameworks/Python.framework/Versions/3.9/bin/python3.9 -m pip install --upgrade pip' command.\u001b[0m\n",
      "Note: you may need to restart the kernel to use updated packages.\n"
     ]
    }
   ],
   "source": [
    "%pip install -r requirements.txt"
   ]
  },
  {
   "cell_type": "markdown",
   "id": "68cf7d92",
   "metadata": {},
   "source": [
    "2. Make sure you have [graphviz](https://graphviz.org/) installed on your system. (On a Mac OS X, `brew install graphviz`. For other platforms, see [_https://graphviz.org/download/_](https://graphviz.org/download/).)"
   ]
  },
  {
   "cell_type": "code",
   "execution_count": 2,
   "id": "d39abe1f",
   "metadata": {},
   "outputs": [],
   "source": [
    "import collections\n",
    "import matplotlib.pyplot as plt\n",
    "\n",
    "import utils"
   ]
  },
  {
   "cell_type": "markdown",
   "id": "5554e2bc",
   "metadata": {},
   "source": [
    "## Part 1: Assembling the TeleTubby Genome"
   ]
  },
  {
   "cell_type": "markdown",
   "id": "7985c6cb",
   "metadata": {},
   "source": [
    "For this part, you're given reads generated while trying to sequence the DNA of a mysterious unknown organism with a _tiny_ genome. Some of the course staff is not sure what a TeleTubby is, but I've been assured that no cute creatures were harmed in producing this data (which was generated synthetically).\n",
    "\n",
    "By answering the following questions, you will learn how to assemble the original genome sequence from sequence reads.\n",
    "\n",
    "Sequencing data is often stored in the FASTQ file format, with is a simple ASCII format that is somewhat human-readable. \n",
    "\n",
    "In _TeleTubby.fastq_ (which is included in the repository you forked), you will find the data that was read from the TeleTubby genome. Each four lines of the file repeat the same pattern. For example,\n",
    "```\n",
    "@TeleTubby Genome: Project 1\n",
    "TAAAATGG\n",
    "+\n",
    "HAICDF5I\n",
    "```\n",
    "The first line contains the metadata that encodes the name of the read, the experiment type, the kind of sequencing machine used, etc. \n",
    "\n",
    "The second line is the sequence of bases that was read. \n",
    "\n",
    "The third line is just a placeholder.\n",
    "\n",
    "The fourth line is a sequence of base qualities that encodes the qualities for the corresponding bases in the sequence line. We will discuss and use this for Problem 2."
   ]
  },
  {
   "cell_type": "markdown",
   "id": "744fd5da",
   "metadata": {},
   "source": [
    "Read in the data from `TeleTubby.fastq`:"
   ]
  },
  {
   "cell_type": "code",
   "execution_count": 3,
   "id": "04406782",
   "metadata": {},
   "outputs": [],
   "source": [
    "# Read sequence reads (error-free) from file\n",
    "sequence_reads, qualities = utils.read_fastq('TeleTubby.fastq')"
   ]
  },
  {
   "cell_type": "markdown",
   "id": "69527f9b",
   "metadata": {},
   "source": [
    "### Melting Temperature\n",
    "\n",
    "The GC-content (or the ratio of G and C nucleotides) is related to the melting temperature of a DNA double helix structure. \n",
    "\n",
    "The following equation can be used to estimate the melting temperature (in degrees Celsius) of DNA for a particular sequence:\n",
    "\n",
    "\\begin{equation*}\n",
    "t_m = 64.9+0.41(\\%GC)-\\frac{500}{\\text{length of sequence}}\n",
    "\\end{equation*}\n",
    "\n",
    "As a reference, the human genome is known to have between 35%-60% GC-content. \n",
    "\n",
    "<div class=\"alert alert-success\">\n",
    "\n",
    "**Problem 1.** Calculate the melting temperature for the TeleTubby genome using the formula above. Assume that the sequence is 300 nucleotides long, and that the provided read data has equal coverage everywhere so the G-C distribution in the reads is very close to the actual G-C distribution for the genome. \n",
    "    </div>"
   ]
  },
  {
   "cell_type": "code",
   "execution_count": 8,
   "id": "cd274b8a",
   "metadata": {},
   "outputs": [],
   "source": [
    "# Write code here for calculating the %GC content from the sequence_reads, and computing the estimated melting temperature.\n",
    "l=300\n",
    "count=0\n",
    "content=['C', 'G']\n",
    "ratios = []\n",
    "\n",
    "for read in sequence_reads:\n",
    "    for c in read:\n",
    "        if c in content:\n",
    "            count += 1\n",
    "    ratio = count/8\n",
    "    ratios.append(ratio)\n",
    "    count=0\n",
    "\n",
    "gc = (sum(ratios)/l)\n",
    "tm = 64.9 + (0.41*gc) - (500/l)"
   ]
  },
  {
   "cell_type": "code",
   "execution_count": 9,
   "id": "c5cc58d6",
   "metadata": {},
   "outputs": [
    {
     "name": "stdout",
     "output_type": "stream",
     "text": [
      "63.443458333333346\n",
      "0.5125\n"
     ]
    }
   ],
   "source": [
    "# Print out temperature in Celsius\n",
    "print(tm)\n",
    "print(gc)"
   ]
  },
  {
   "cell_type": "markdown",
   "id": "72723374",
   "metadata": {},
   "source": [
    "## Interpreting Read Quality"
   ]
  },
  {
   "cell_type": "markdown",
   "id": "e9a67a93",
   "metadata": {},
   "source": [
    "Phred33 quality scores are represented as the character with an ASCII code equal to its value + 33 (to make them easy to print alongside genome sequences). The Phred scores $Q$ are related to error probabilities $P$ as: $Q = -10 \\log_{10}(P)$. The table linked here provides a mapping from the Phred values provided in a fastq file and the $Q$ values: [Quality Score Encoding](https://support.illumina.com/help/BaseSpace_OLH_009008/Content/Source/Informatics/BS/QualityScoreEncoding_swBS.htm) \n",
    "\n",
    "<div class=\"alert alert-success\">\n",
    "    \n",
    "**Problem 2.** Using the Phred scores, identify the _least likely to be correct_ read in the TeleTubby.fastq data, which is the read with the lowest probability that it contains _no_ errors.\n",
    "\n",
    "</div>"
   ]
  },
  {
   "cell_type": "code",
   "execution_count": 13,
   "id": "76758368",
   "metadata": {},
   "outputs": [
    {
     "name": "stdout",
     "output_type": "stream",
     "text": [
      "QOECRLDQ\n",
      "1.8941617547848824e-15\n",
      "Read:  TTGTGCTC\n"
     ]
    }
   ],
   "source": [
    "# Write your code for Problem 2 here. \n",
    "# It should output the read (nucleotide sequence) with the lowest probability of containing no errors.\n",
    "\n",
    "import math\n",
    "import sys\n",
    "from collections import defaultdict\n",
    "\n",
    "min_sequence = sys.maxsize\n",
    "q_val = 0\n",
    "d= defaultdict(list)\n",
    "\n",
    "for quality in qualities:\n",
    "    for q in quality:\n",
    "        q_val += (ord(q)-33)\n",
    "    p = math.exp(q_val/-10)\n",
    "    d[p].append(quality)\n",
    "    min_sequence = min(min_sequence, p)\n",
    "    q_val = 0\n",
    "\n",
    "print(d[min_sequence][0])\n",
    "print(min_sequence)\n",
    "print('Read: ', sequence_reads[qualities.index(d[min_sequence][0])])"
   ]
  },
  {
   "cell_type": "markdown",
   "id": "9d9abeb9",
   "metadata": {},
   "source": [
    "Note: For the following problems, you can ignore the read quality scores, and safely assume there are no actual errors in the provided TeleTubby reads."
   ]
  },
  {
   "cell_type": "markdown",
   "id": "8e55395f",
   "metadata": {},
   "source": [
    "## Frequency analysis\n",
    "\n",
    "Looking at repetitions in the sequence can be helpful in estimating the \"redudancy\" in the organisms. Eucaryote genomes have a lot of redundancy, while smaller organisms like bacteria have highly packed genomes. One heuristic to estimate this before actually performing the assembly could be looking at how often certain $k$-mers are repeated.\n",
    "\n",
    "<div class=\"alert alert-success\">\n",
    "    \n",
    "**Problem 3.**\n",
    "    Print out the 3 most frequent <em>k</em>-mers in the TeleTubby reads with their frequencies. (As in Problem 1, doing this from the reads only produces the same result as from the genome if the read coverage is equal everywhere, but it should be a close estimate.)\n",
    "</div>"
   ]
  },
  {
   "cell_type": "code",
   "execution_count": 17,
   "id": "bdbd6bc8",
   "metadata": {},
   "outputs": [
    {
     "name": "stdout",
     "output_type": "stream",
     "text": [
      "[('ATGATGAT', 3), ('GATGATGA', 2), ('TGATGATG', 2)]\n"
     ]
    }
   ],
   "source": [
    "# Your code here\n",
    "import heapq\n",
    "from collections import Counter\n",
    "counts = Counter(sequence_reads)\n",
    "print(heapq.nlargest(3, counts.items(), key = lambda x:x[1] ))"
   ]
  },
  {
   "cell_type": "markdown",
   "id": "728a612b",
   "metadata": {},
   "source": [
    "## Greedy Assembly"
   ]
  },
  {
   "cell_type": "markdown",
   "id": "36c041ab",
   "metadata": {},
   "source": [
    "Given a set of sequence fragments, the objective of assembly can be viewed as finding the shortest sequence that contains all the fragments.\n",
    "\n",
    "One of the approaches to assemble the genome from the given reads is a greedy algorithm:\n",
    "\n",
    "```\n",
    "while (len(fragments) > 1):\n",
    "   calculate pairwise alignments of all pairs of fragments\n",
    "   merge the two fragments with the largest overlap\n",
    "genome = fragment[0] # the single remaining fragment is the genome\n",
    "```\n"
   ]
  },
  {
   "cell_type": "markdown",
   "id": "35f6e176",
   "metadata": {},
   "source": [
    "<div class=\"alert alert-success\">\n",
    "    \n",
    "**Problem 4 (a)**. What would the runtime be of this algorithm, given $n$ $k$-mer reads? (If you are not sure how to express your answer to this question, review [_Cost of Computation_](https://computingbiology.github.io/complexity/).)\n",
    "    </div>"
   ]
  },
  {
   "cell_type": "markdown",
   "id": "93985b9f",
   "metadata": {},
   "source": [
    "<i>Answer</i>: O(n)"
   ]
  },
  {
   "cell_type": "markdown",
   "id": "6d868a87",
   "metadata": {},
   "source": [
    "<div class=\"alert alert-success\">\n",
    "\n",
    "**Problem 4 (b)**. Is this algorithm guaranteed to find the correct genome? (A good answer will define what _correct_ means here, and explain why the algorithm is or is not guaranteed to find it.)"
   ]
  },
  {
   "cell_type": "markdown",
   "id": "12bfc75b",
   "metadata": {},
   "source": [
    "<i>Answer</i>: \n",
    "Finding the correct genome means finding the shortest sequence that contains all the fragments. If we take the greedy approach, we might not find the best pairing on the first go which wouldn't result in the shortest genome. An example is in the reading, where backtracking was needed to find the better choice to construct the shortest genome."
   ]
  },
  {
   "cell_type": "markdown",
   "id": "44685e7e",
   "metadata": {},
   "source": [
    "## Graph-based Assembly"
   ]
  },
  {
   "cell_type": "markdown",
   "id": "c9d33cc7",
   "metadata": {},
   "source": [
    "Graphs for genome assembly can be constructed in two ways:\n",
    "\n",
    "- de Bruijn graph: Processing $k-$mers as edges, with $(k-1)-$mers as nodes, and\n",
    "- Overlap graph: Processing $k-$mers as nodes, with $(k-1)-$mers as edges.\n",
    "\n",
    "A de Bruijn graph can be processed to find Euler paths, while Overlap graphs can be processed to find Hamiltonian paths. Both of these methods can be used reconstruct the original genome.\n",
    "\n",
    "<div class=\"alert alert-success\">\n",
    "    \n",
    "**Problem 5.**  Use one of these two techniques to reconstruct the TeleTubby genome from the provided sequence reads. \n",
    "    \n",
    "</div>\n",
    "    \n",
    "We have provided some template code below that may be helpful (but feel free to ignore this is you prefer)."
   ]
  },
  {
   "cell_type": "code",
   "execution_count": 24,
   "id": "c50bc332",
   "metadata": {},
   "outputs": [],
   "source": [
    "def build_graph(k_mers):\n",
    "    edges = []\n",
    "    nodes = set()\n",
    "        \n",
    "    # Your code here\n",
    "    #ACTCCGGT\n",
    "    #k-mer of 8\n",
    "    #k-mers = nodes\n",
    "    #(k-1)-mers = edges\n",
    "     \n",
    "    nodes = set(k_mers)\n",
    "    \n",
    "    for n in nodes:\n",
    "        edges.append((n, n[:7], n[1:8]))\n",
    "    print(edges)\n",
    "    return nodes, edges"
   ]
  },
  {
   "cell_type": "code",
   "execution_count": 26,
   "id": "f60e36d1",
   "metadata": {},
   "outputs": [
    {
     "name": "stdout",
     "output_type": "stream",
     "text": [
      "[('GACGCAAA', 'GACGCAA', 'ACGCAAA'), ('TTACCGGC', 'TTACCGG', 'TACCGGC'), ('AACATTAG', 'AACATTA', 'ACATTAG'), ('CAGATTTC', 'CAGATTT', 'AGATTTC'), ('CGTTGCTC', 'CGTTGCT', 'GTTGCTC'), ('CCCCAGTG', 'CCCCAGT', 'CCCAGTG'), ('CACCTGAC', 'CACCTGA', 'ACCTGAC'), ('AGGTAGAA', 'AGGTAGA', 'GGTAGAA'), ('ATCACCCC', 'ATCACCC', 'TCACCCC'), ('CACCCCGT', 'CACCCCG', 'ACCCCGT'), ('GACCGTGA', 'GACCGTG', 'ACCGTGA'), ('CTGACGAC', 'CTGACGA', 'TGACGAC'), ('CCACCAGA', 'CCACCAG', 'CACCAGA'), ('CCCCGTCG', 'CCCCGTC', 'CCCGTCG'), ('CATATGTC', 'CATATGT', 'ATATGTC'), ('TACGGGCG', 'TACGGGC', 'ACGGGCG'), ('CGGGCGGA', 'CGGGCGG', 'GGGCGGA'), ('TCCATCCC', 'TCCATCC', 'CCATCCC'), ('AATTGCTC', 'AATTGCT', 'ATTGCTC'), ('AGTGGTCA', 'AGTGGTC', 'GTGGTCA'), ('TCGTAAAC', 'TCGTAAA', 'CGTAAAC'), ('AAAAGAGC', 'AAAAGAG', 'AAAGAGC'), ('GATTTCGG', 'GATTTCG', 'ATTTCGG'), ('GCATCACC', 'GCATCAC', 'CATCACC'), ('CCCGTCGG', 'CCCGTCG', 'CCGTCGG'), ('GATGATTG', 'GATGATT', 'ATGATTG'), ('TAGAATTG', 'TAGAATT', 'AGAATTG'), ('ACAACATT', 'ACAACAT', 'CAACATT'), ('GGCGGATT', 'GGCGGAT', 'GCGGATT'), ('GGTCAGAT', 'GGTCAGA', 'GTCAGAT'), ('GAATTGCT', 'GAATTGC', 'AATTGCT'), ('TACCCATC', 'TACCCAT', 'ACCCATC'), ('TGTGTGAT', 'TGTGTGA', 'GTGTGAT'), ('ACTTGTGC', 'ACTTGTG', 'CTTGTGC'), ('TCGTAGGT', 'TCGTAGG', 'CGTAGGT'), ('TGAGTCCG', 'TGAGTCC', 'GAGTCCG'), ('GGATTTCG', 'GGATTTC', 'GATTTCG'), ('CCCTGAGG', 'CCCTGAG', 'CCTGAGG'), ('CCCATCGC', 'CCCATCG', 'CCATCGC'), ('CTGACAAC', 'CTGACAA', 'TGACAAC'), ('GTAAACGT', 'GTAAACG', 'TAAACGT'), ('ATTCTGAC', 'ATTCTGA', 'TTCTGAC'), ('TTCGGTAG', 'TTCGGTA', 'TCGGTAG'), ('GTCAGATT', 'GTCAGAT', 'TCAGATT'), ('CATTAGGC', 'CATTAGG', 'ATTAGGC'), ('ATGATGAT', 'ATGATGA', 'TGATGAT'), ('GTGGTCAG', 'GTGGTCA', 'TGGTCAG'), ('CAAAGCAT', 'CAAAGCA', 'AAAGCAT'), ('GTGCTCAC', 'GTGCTCA', 'TGCTCAC'), ('GATATGAT', 'GATATGA', 'ATATGAT'), ('CGGATTCT', 'CGGATTC', 'GGATTCT'), ('TTCCATCC', 'TTCCATC', 'TCCATCC'), ('CTCGAATC', 'CTCGAAT', 'TCGAATC'), ('GTGATATG', 'GTGATAT', 'TGATATG'), ('TGACAACA', 'TGACAAC', 'GACAACA'), ('AAGAGCCT', 'AAGAGCC', 'AGAGCCT'), ('CAACATTA', 'CAACATT', 'AACATTA'), ('CAGGGGTC', 'CAGGGGT', 'AGGGGTC'), ('GGGGTCGT', 'GGGGTCG', 'GGGTCGT'), ('CATCCCTG', 'CATCCCT', 'ATCCCTG'), ('CTGACGCA', 'CTGACGC', 'TGACGCA'), ('CGCGCGCC', 'CGCGCGC', 'GCGCGCC'), ('GCCAGGGG', 'GCCAGGG', 'CCAGGGG'), ('TGATATGA', 'TGATATG', 'GATATGA'), ('AATGTGTG', 'AATGTGT', 'ATGTGTG'), ('CCGACTTG', 'CCGACTT', 'CGACTTG'), ('GGATAAGC', 'GGATAAG', 'GATAAGC'), ('TACCGGCG', 'TACCGGC', 'ACCGGCG'), ('TTATGAGA', 'TTATGAG', 'TATGAGA'), ('ATGTCAGC', 'ATGTCAG', 'TGTCAGC'), ('GTAGGTAG', 'GTAGGTA', 'TAGGTAG'), ('AGCATTTA', 'AGCATTT', 'GCATTTA'), ('TGCTCGGA', 'TGCTCGG', 'GCTCGGA'), ('GTGTGAAT', 'GTGTGAA', 'TGTGAAT'), ('ACGTGTGA', 'ACGTGTG', 'CGTGTGA'), ('GTGTGATA', 'GTGTGAT', 'TGTGATA'), ('ATCGTAAA', 'ATCGTAA', 'TCGTAAA'), ('GCGGATTC', 'GCGGATT', 'CGGATTC'), ('GCGTTGCT', 'GCGTTGC', 'CGTTGCT'), ('ATTGCTCG', 'ATTGCTC', 'TTGCTCG'), ('CGGTAGGA', 'CGGTAGG', 'GGTAGGA'), ('CAGCATTT', 'CAGCATT', 'AGCATTT'), ('TAAAAGAG', 'TAAAAGA', 'AAAAGAG'), ('AAGCATCA', 'AAGCATC', 'AGCATCA'), ('TCCGATAC', 'TCCGATA', 'CCGATAC'), ('ACGCCCCC', 'ACGCCCC', 'CGCCCCC'), ('GCTCCCGA', 'GCTCCCG', 'CTCCCGA'), ('GTAAAAGA', 'GTAAAAG', 'TAAAAGA'), ('TCAGATTT', 'TCAGATT', 'CAGATTT'), ('GGATTCTG', 'GGATTCT', 'GATTCTG'), ('AGCATATG', 'AGCATAT', 'GCATATG'), ('CGTAGGTA', 'CGTAGGT', 'GTAGGTA'), ('TAGGACAA', 'TAGGACA', 'AGGACAA'), ('GGAGCCAC', 'GGAGCCA', 'GAGCCAC'), ('TTGTGCTC', 'TTGTGCT', 'TGTGCTC'), ('TTACCCAT', 'TTACCCA', 'TACCCAT'), ('TGACGCAA', 'TGACGCA', 'GACGCAA'), ('GCCTGACG', 'GCCTGAC', 'CCTGACG'), ('GCAAAGCA', 'GCAAAGC', 'CAAAGCA'), ('TGACGCCC', 'TGACGCC', 'GACGCCC'), ('TGAGGATT', 'TGAGGAT', 'GAGGATT'), ('ATATGTCA', 'ATATGTC', 'TATGTCA'), ('ATACGGGC', 'ATACGGG', 'TACGGGC'), ('CAGTGGTC', 'CAGTGGT', 'AGTGGTC'), ('ACGACCGT', 'ACGACCG', 'CGACCGT'), ('GATGACGC', 'GATGACG', 'ATGACGC'), ('CCAGACCT', 'CCAGACC', 'CAGACCT'), ('GTGAATGT', 'GTGAATG', 'TGAATGT'), ('AAGCTTAT', 'AAGCTTA', 'AGCTTAT'), ('AAAGAGCC', 'AAAGAGC', 'AAGAGCC'), ('AATTTACC', 'AATTTAC', 'ATTTACC'), ('TGTGAATG', 'TGTGAAT', 'GTGAATG'), ('TTTACCCA', 'TTTACCC', 'TTACCCA'), ('GGGGTAAA', 'GGGGTAA', 'GGGTAAA'), ('TTCTGACG', 'TTCTGAC', 'TCTGACG'), ('TTTCCATC', 'TTTCCAT', 'TTCCATC'), ('TGATGATT', 'TGATGAT', 'GATGATT'), ('ATTTACCC', 'ATTTACC', 'TTTACCC'), ('TCGCGCGC', 'TCGCGCG', 'CGCGCGC'), ('AGCCACCA', 'AGCCACC', 'GCCACCA'), ('TGCTCCCG', 'TGCTCCC', 'GCTCCCG'), ('AGGATTTC', 'AGGATTT', 'GGATTTC'), ('TCCCGACT', 'TCCCGAC', 'CCCGACT'), ('CCCCCCCA', 'CCCCCCC', 'CCCCCCA'), ('TCGGAGCC', 'TCGGAGC', 'CGGAGCC'), ('ACATTAGG', 'ACATTAG', 'CATTAGG'), ('TGTCAGCA', 'TGTCAGC', 'GTCAGCA'), ('TCTGACGC', 'TCTGACG', 'CTGACGC'), ('CCGATACG', 'CCGATAC', 'CGATACG'), ('TTAGGCAG', 'TTAGGCA', 'TAGGCAG'), ('GTAGAATT', 'GTAGAAT', 'TAGAATT'), ('TGATGATG', 'TGATGAT', 'GATGATG'), ('GATTCTGA', 'GATTCTG', 'ATTCTGA'), ('CGGGGTAA', 'CGGGGTA', 'GGGGTAA'), ('GGTAGGAC', 'GGTAGGA', 'GTAGGAC'), ('CCTGACAA', 'CCTGACA', 'CTGACAA'), ('CCGGCGTT', 'CCGGCGT', 'CGGCGTT'), ('GACGCCCC', 'GACGCCC', 'ACGCCCC'), ('GATAAGCT', 'GATAAGC', 'ATAAGCT'), ('TGAGCATA', 'TGAGCAT', 'GAGCATA'), ('ACCCCGTC', 'ACCCCGT', 'CCCCGTC'), ('TATGTCAG', 'TATGTCA', 'ATGTCAG'), ('ATTAGGCA', 'ATTAGGC', 'TTAGGCA'), ('CCGTCGGG', 'CCGTCGG', 'CGTCGGG'), ('TCAGCATT', 'TCAGCAT', 'CAGCATT'), ('GCTCGGAG', 'GCTCGGA', 'CTCGGAG'), ('CCCCCAGT', 'CCCCCAG', 'CCCCAGT'), ('CCATCGCG', 'CCATCGC', 'CATCGCG'), ('ATTTCCAT', 'ATTTCCA', 'TTTCCAT'), ('GACAACAT', 'GACAACA', 'ACAACAT'), ('TGATTGAT', 'TGATTGA', 'GATTGAT'), ('CCGTGAGC', 'CCGTGAG', 'CGTGAGC'), ('TGAATGTG', 'TGAATGT', 'GAATGTG'), ('ATCGCGCG', 'ATCGCGC', 'TCGCGCG'), ('ACGCAAAG', 'ACGCAAA', 'CGCAAAG'), ('CAGACCTG', 'CAGACCT', 'AGACCTG'), ('TAAGCTTA', 'TAAGCTT', 'AAGCTTA'), ('TGTGCTCA', 'TGTGCTC', 'GTGCTCA'), ('CGCAAAGC', 'CGCAAAG', 'GCAAAGC'), ('GGCGTTGC', 'GGCGTTG', 'GCGTTGC'), ('TAGGTAGA', 'TAGGTAG', 'AGGTAGA'), ('CCCGACTT', 'CCCGACT', 'CCGACTT'), ('ATGTGTGA', 'ATGTGTG', 'TGTGTGA'), ('TATGAGAT', 'TATGAGA', 'ATGAGAT'), ('CCAGGGGT', 'CCAGGGG', 'CAGGGGT'), ('GTCAGCAT', 'GTCAGCA', 'TCAGCAT'), ('GAGCATAT', 'GAGCATA', 'AGCATAT'), ('CGATACGG', 'CGATACG', 'GATACGG'), ('CATCGCGC', 'CATCGCG', 'ATCGCGC'), ('AGAATTGC', 'AGAATTG', 'GAATTGC'), ('TAAACGTG', 'TAAACGT', 'AAACGTG'), ('TAGGCAGG', 'TAGGCAG', 'AGGCAGG'), ('ATGAGTCC', 'ATGAGTC', 'TGAGTCC'), ('GATGAGTC', 'GATGAGT', 'ATGAGTC'), ('AACGTGTG', 'AACGTGT', 'ACGTGTG'), ('GACGACCG', 'GACGACC', 'ACGACCG'), ('CGGCGTTG', 'CGGCGTT', 'GGCGTTG'), ('CTCCCGAC', 'CTCCCGA', 'TCCCGAC'), ('ACAATTTA', 'ACAATTT', 'CAATTTA'), ('TGAGATGA', 'TGAGATG', 'GAGATGA'), ('GTCGGGGT', 'GTCGGGG', 'TCGGGGT'), ('GTCGTAGG', 'GTCGTAG', 'TCGTAGG'), ('GAGCCACC', 'GAGCCAC', 'AGCCACC'), ('CGCGCCAG', 'CGCGCCA', 'GCGCCAG'), ('ATTGATGA', 'ATTGATG', 'TTGATGA'), ('GACTTGTG', 'GACTTGT', 'ACTTGTG'), ('TGTGATAT', 'TGTGATA', 'GTGATAT'), ('CCCCCCAG', 'CCCCCCA', 'CCCCCAG'), ('AGCCTGAC', 'AGCCTGA', 'GCCTGAC'), ('ACCGTGAG', 'ACCGTGA', 'CCGTGAG'), ('CCAGTGGT', 'CCAGTGG', 'CAGTGGT'), ('ATAAGCTT', 'ATAAGCT', 'TAAGCTT'), ('ACCGGCGT', 'ACCGGCG', 'CCGGCGT'), ('CTCGGAGC', 'CTCGGAG', 'TCGGAGC'), ('TCGGTAGG', 'TCGGTAG', 'CGGTAGG'), ('GATTTCCA', 'GATTTCC', 'ATTTCCA'), ('TCACCTGA', 'TCACCTG', 'CACCTGA'), ('GGCAGGAT', 'GGCAGGA', 'GCAGGAT'), ('CTGAGGAT', 'CTGAGGA', 'TGAGGAT'), ('GTGAGCAT', 'GTGAGCA', 'TGAGCAT'), ('GTCCGATA', 'GTCCGAT', 'TCCGATA'), ('CGTGAGCA', 'CGTGAGC', 'GTGAGCA'), ('ACCTGACA', 'ACCTGAC', 'CCTGACA'), ('GCGCCAGG', 'GCGCCAG', 'CGCCAGG'), ('CTCACCTG', 'CTCACCT', 'TCACCTG'), ('AATCGTAA', 'AATCGTA', 'ATCGTAA'), ('AAAGCATC', 'AAAGCAT', 'AAGCATC'), ('CCCAGTGG', 'CCCAGTG', 'CCAGTGG'), ('CTTATGAG', 'CTTATGA', 'TTATGAG'), ('ATGATTGA', 'ATGATTG', 'TGATTGA'), ('ACCAGACC', 'ACCAGAC', 'CCAGACC'), ('GAATGTGT', 'GAATGTG', 'AATGTGT'), ('GAGTCCGA', 'GAGTCCG', 'AGTCCGA'), ('GTAGGACA', 'GTAGGAC', 'TAGGACA'), ('GCGCGCCA', 'GCGCGCC', 'CGCGCCA'), ('GAGGATTT', 'GAGGATT', 'AGGATTT'), ('TTTCGGTA', 'TTTCGGT', 'TTCGGTA'), ('TTGATGAG', 'TTGATGA', 'TGATGAG'), ('TGACGACC', 'TGACGAC', 'GACGACC'), ('GAGCCTGA', 'GAGCCTG', 'AGCCTGA'), ('TGCTCACC', 'TGCTCAC', 'GCTCACC'), ('TCGAATCG', 'TCGAATC', 'CGAATCG'), ('ATGACGCC', 'ATGACGC', 'TGACGCC'), ('TATGATGA', 'TATGATG', 'ATGATGA'), ('ACCCATCG', 'ACCCATC', 'CCCATCG'), ('GGTAAAAG', 'GGTAAAA', 'GTAAAAG'), ('TTTACCGG', 'TTTACCG', 'TTACCGG'), ('AAACGTGT', 'AAACGTG', 'AACGTGT'), ('GAATCGTA', 'GAATCGT', 'AATCGTA'), ('GTTGCTCC', 'GTTGCTC', 'TTGCTCC'), ('GATACGGG', 'GATACGG', 'ATACGGG'), ('TGGTCAGA', 'TGGTCAG', 'GGTCAGA'), ('AGGACAAT', 'AGGACAA', 'GGACAAT'), ('GCATTTAC', 'GCATTTA', 'CATTTAC'), ('CAGGATAA', 'CAGGATA', 'AGGATAA'), ('CAATTTAC', 'CAATTTA', 'AATTTAC'), ('GGGCGGAT', 'GGGCGGA', 'GGCGGAT'), ('GATGATGA', 'GATGATG', 'ATGATGA'), ('GCATATGT', 'GCATATG', 'CATATGT'), ('AGAGCCTG', 'AGAGCCT', 'GAGCCTG'), ('AGGCAGGA', 'AGGCAGG', 'GGCAGGA'), ('ACGGGCGG', 'ACGGGCG', 'CGGGCGG'), ('CGCCCCCC', 'CGCCCCC', 'GCCCCCC'), ('AGATGACG', 'AGATGAC', 'GATGACG'), ('GCCCCCCC', 'GCCCCCC', 'CCCCCCC'), ('CCTGACGA', 'CCTGACG', 'CTGACGA'), ('TTGCTCCC', 'TTGCTCC', 'TGCTCCC'), ('GGTCGTAG', 'GGTCGTA', 'GTCGTAG'), ('AGGATAAG', 'AGGATAA', 'GGATAAG'), ('GGGTAAAA', 'GGGTAAA', 'GGTAAAA'), ('CCATCCCT', 'CCATCCC', 'CATCCCT'), ('CGTGTGAA', 'CGTGTGA', 'GTGTGAA'), ('CGACTTGT', 'CGACTTG', 'GACTTGT'), ('AGCATCAC', 'AGCATCA', 'GCATCAC'), ('AGGGGTCG', 'AGGGGTC', 'GGGGTCG'), ('AGATTTCC', 'AGATTTC', 'GATTTCC'), ('CCTGAGGA', 'CCTGAGG', 'CTGAGGA'), ('GACAATTT', 'GACAATT', 'ACAATTT'), ('ATTTACCG', 'ATTTACC', 'TTTACCG'), ('CGCCAGGG', 'CGCCAGG', 'GCCAGGG'), ('GCTCACCT', 'GCTCACC', 'CTCACCT'), ('AGTCCGAT', 'AGTCCGA', 'GTCCGAT'), ('CTTGTGCT', 'CTTGTGC', 'TTGTGCT'), ('CATTTACC', 'CATTTAC', 'ATTTACC'), ('GCTTATGA', 'GCTTATG', 'CTTATGA'), ('GCAGGATA', 'GCAGGAT', 'CAGGATA'), ('GAGATGAC', 'GAGATGA', 'AGATGAC'), ('ATGAGATG', 'ATGAGAT', 'TGAGATG'), ('CGTAAACG', 'CGTAAAC', 'GTAAACG'), ('CGAATCGT', 'CGAATCG', 'GAATCGT'), ('TCACCCCG', 'TCACCCC', 'CACCCCG'), ('GATTGATG', 'GATTGAT', 'ATTGATG'), ('TCGGGGTA', 'TCGGGGT', 'CGGGGTA'), ('CGACCGTG', 'CGACCGT', 'GACCGTG'), ('TCCCTGAG', 'TCCCTGA', 'CCCTGAG'), ('TTGCTCGG', 'TTGCTCG', 'TGCTCGG'), ('CACCAGAC', 'CACCAGA', 'ACCAGAC'), ('CGTCGGGG', 'CGTCGGG', 'GTCGGGG'), ('ATATGATG', 'ATATGAT', 'TATGATG'), ('CATCACCC', 'CATCACC', 'ATCACCC'), ('GGGTCGTA', 'GGGTCGT', 'GGTCGTA'), ('GGACAATT', 'GGACAAT', 'GACAATT'), ('GCCACCAG', 'GCCACCA', 'CCACCAG'), ('AGCTTATG', 'AGCTTAT', 'GCTTATG'), ('ATTTCGGT', 'ATTTCGG', 'TTTCGGT'), ('ATCCCTGA', 'ATCCCTG', 'TCCCTGA'), ('GGTAGAAT', 'GGTAGAA', 'GTAGAAT'), ('TGATGAGT', 'TGATGAG', 'GATGAGT'), ('CGGAGCCA', 'CGGAGCC', 'GGAGCCA')]\n"
     ]
    }
   ],
   "source": [
    "nodes, edges = build_graph(sequence_reads)"
   ]
  },
  {
   "cell_type": "code",
   "execution_count": 27,
   "id": "93131d20",
   "metadata": {},
   "outputs": [],
   "source": [
    "# Needed to properly visualize graphs\n",
    "%load_ext gvmagic"
   ]
  },
  {
   "cell_type": "code",
   "execution_count": 28,
   "id": "a238b91e",
   "metadata": {},
   "outputs": [
    {
     "ename": "ValueError",
     "evalue": "too many values to unpack (expected 2)",
     "output_type": "error",
     "traceback": [
      "\u001b[0;31m---------------------------------------------------------------------------\u001b[0m",
      "\u001b[0;31mValueError\u001b[0m                                Traceback (most recent call last)",
      "Input \u001b[0;32mIn [28]\u001b[0m, in \u001b[0;36m<module>\u001b[0;34m\u001b[0m\n\u001b[1;32m      1\u001b[0m \u001b[38;5;66;03m# Helper function to visualize graphs\u001b[39;00m\n\u001b[0;32m----> 2\u001b[0m \u001b[43mget_ipython\u001b[49m\u001b[43m(\u001b[49m\u001b[43m)\u001b[49m\u001b[38;5;241;43m.\u001b[39;49m\u001b[43mrun_line_magic\u001b[49m\u001b[43m(\u001b[49m\u001b[38;5;124;43m'\u001b[39;49m\u001b[38;5;124;43mdotstr\u001b[39;49m\u001b[38;5;124;43m'\u001b[39;49m\u001b[43m,\u001b[49m\u001b[43m \u001b[49m\u001b[38;5;124;43m'\u001b[39;49m\u001b[38;5;124;43mutils.viz_graph(nodes, edges)\u001b[39;49m\u001b[38;5;124;43m'\u001b[39;49m\u001b[43m)\u001b[49m\n",
      "File \u001b[0;32m/Library/Frameworks/Python.framework/Versions/3.9/lib/python3.9/site-packages/IPython/core/interactiveshell.py:2204\u001b[0m, in \u001b[0;36mInteractiveShell.run_line_magic\u001b[0;34m(self, magic_name, line, _stack_depth)\u001b[0m\n\u001b[1;32m   2202\u001b[0m     kwargs[\u001b[38;5;124m'\u001b[39m\u001b[38;5;124mlocal_ns\u001b[39m\u001b[38;5;124m'\u001b[39m] \u001b[38;5;241m=\u001b[39m \u001b[38;5;28mself\u001b[39m\u001b[38;5;241m.\u001b[39mget_local_scope(stack_depth)\n\u001b[1;32m   2203\u001b[0m \u001b[38;5;28;01mwith\u001b[39;00m \u001b[38;5;28mself\u001b[39m\u001b[38;5;241m.\u001b[39mbuiltin_trap:\n\u001b[0;32m-> 2204\u001b[0m     result \u001b[38;5;241m=\u001b[39m \u001b[43mfn\u001b[49m\u001b[43m(\u001b[49m\u001b[38;5;241;43m*\u001b[39;49m\u001b[43margs\u001b[49m\u001b[43m,\u001b[49m\u001b[43m \u001b[49m\u001b[38;5;241;43m*\u001b[39;49m\u001b[38;5;241;43m*\u001b[39;49m\u001b[43mkwargs\u001b[49m\u001b[43m)\u001b[49m\n\u001b[1;32m   2205\u001b[0m \u001b[38;5;28;01mreturn\u001b[39;00m result\n",
      "File \u001b[0;32m/Library/Frameworks/Python.framework/Versions/3.9/lib/python3.9/site-packages/gvmagic.py:55\u001b[0m, in \u001b[0;36mGraphvizMagics.dotstr\u001b[0;34m(self, line)\u001b[0m\n\u001b[1;32m     53\u001b[0m \u001b[38;5;129m@line_magic\u001b[39m\n\u001b[1;32m     54\u001b[0m \u001b[38;5;28;01mdef\u001b[39;00m \u001b[38;5;21mdotstr\u001b[39m(\u001b[38;5;28mself\u001b[39m, line):\n\u001b[0;32m---> 55\u001b[0m     \u001b[38;5;28;43mself\u001b[39;49m\u001b[38;5;241;43m.\u001b[39;49m\u001b[43m_from_str\u001b[49m\u001b[43m(\u001b[49m\u001b[43mline\u001b[49m\u001b[43m,\u001b[49m\u001b[43m \u001b[49m\u001b[38;5;124;43m'\u001b[39;49m\u001b[38;5;124;43mdot\u001b[39;49m\u001b[38;5;124;43m'\u001b[39;49m\u001b[43m)\u001b[49m\n",
      "File \u001b[0;32m/Library/Frameworks/Python.framework/Versions/3.9/lib/python3.9/site-packages/gvmagic.py:155\u001b[0m, in \u001b[0;36mGraphvizMagics._from_str\u001b[0;34m(self, line, layout_engine)\u001b[0m\n\u001b[1;32m    154\u001b[0m \u001b[38;5;28;01mdef\u001b[39;00m \u001b[38;5;21m_from_str\u001b[39m(\u001b[38;5;28mself\u001b[39m, line, layout_engine):\n\u001b[0;32m--> 155\u001b[0m     s \u001b[38;5;241m=\u001b[39m \u001b[38;5;28;43mself\u001b[39;49m\u001b[38;5;241;43m.\u001b[39;49m\u001b[43mshell\u001b[49m\u001b[38;5;241;43m.\u001b[39;49m\u001b[43mev\u001b[49m\u001b[43m(\u001b[49m\u001b[43mline\u001b[49m\u001b[43m)\u001b[49m\n\u001b[1;32m    156\u001b[0m     data \u001b[38;5;241m=\u001b[39m run_graphviz(s, layout_engine)\n\u001b[1;32m    157\u001b[0m     \u001b[38;5;28;01mif\u001b[39;00m data:\n",
      "File \u001b[0;32m/Library/Frameworks/Python.framework/Versions/3.9/lib/python3.9/site-packages/IPython/core/interactiveshell.py:2586\u001b[0m, in \u001b[0;36mInteractiveShell.ev\u001b[0;34m(self, expr)\u001b[0m\n\u001b[1;32m   2581\u001b[0m \u001b[38;5;124;03m\"\"\"Evaluate python expression expr in user namespace.\u001b[39;00m\n\u001b[1;32m   2582\u001b[0m \n\u001b[1;32m   2583\u001b[0m \u001b[38;5;124;03mReturns the result of evaluation\u001b[39;00m\n\u001b[1;32m   2584\u001b[0m \u001b[38;5;124;03m\"\"\"\u001b[39;00m\n\u001b[1;32m   2585\u001b[0m \u001b[38;5;28;01mwith\u001b[39;00m \u001b[38;5;28mself\u001b[39m\u001b[38;5;241m.\u001b[39mbuiltin_trap:\n\u001b[0;32m-> 2586\u001b[0m     \u001b[38;5;28;01mreturn\u001b[39;00m \u001b[38;5;28;43meval\u001b[39;49m\u001b[43m(\u001b[49m\u001b[43mexpr\u001b[49m\u001b[43m,\u001b[49m\u001b[43m \u001b[49m\u001b[38;5;28;43mself\u001b[39;49m\u001b[38;5;241;43m.\u001b[39;49m\u001b[43muser_global_ns\u001b[49m\u001b[43m,\u001b[49m\u001b[43m \u001b[49m\u001b[38;5;28;43mself\u001b[39;49m\u001b[38;5;241;43m.\u001b[39;49m\u001b[43muser_ns\u001b[49m\u001b[43m)\u001b[49m\n",
      "File \u001b[0;32m<string>:1\u001b[0m, in \u001b[0;36m<module>\u001b[0;34m\u001b[0m\n",
      "File \u001b[0;32m~/Documents/Project-1-Genome-Assembly/utils.py:97\u001b[0m, in \u001b[0;36mviz_graph\u001b[0;34m(n, e)\u001b[0m\n\u001b[1;32m     95\u001b[0m \u001b[38;5;124;03m\"\"\" visualize graph\"\"\"\u001b[39;00m\n\u001b[1;32m     96\u001b[0m dot_str \u001b[38;5;241m=\u001b[39m \u001b[38;5;124m'\u001b[39m\u001b[38;5;124mdigraph \u001b[39m\u001b[38;5;124m\"\u001b[39m\u001b[38;5;124mAssembly graph\u001b[39m\u001b[38;5;124m\"\u001b[39m\u001b[38;5;124m \u001b[39m\u001b[38;5;124m{\u001b[39m\u001b[38;5;130;01m\\n\u001b[39;00m\u001b[38;5;124m'\u001b[39m\n\u001b[0;32m---> 97\u001b[0m \u001b[38;5;28;01mfor\u001b[39;00m src, dst \u001b[38;5;129;01min\u001b[39;00m e:\n\u001b[1;32m     98\u001b[0m     dot_str \u001b[38;5;241m+\u001b[39m\u001b[38;5;241m=\u001b[39m \u001b[38;5;124m'\u001b[39m\u001b[38;5;132;01m{}\u001b[39;00m\u001b[38;5;124m -> \u001b[39m\u001b[38;5;132;01m{}\u001b[39;00m\u001b[38;5;124m ;\u001b[39m\u001b[38;5;130;01m\\n\u001b[39;00m\u001b[38;5;124m'\u001b[39m\u001b[38;5;241m.\u001b[39mformat(src, dst)\n\u001b[1;32m     99\u001b[0m \u001b[38;5;28;01mreturn\u001b[39;00m dot_str \u001b[38;5;241m+\u001b[39m \u001b[38;5;124m'\u001b[39m\u001b[38;5;124m}\u001b[39m\u001b[38;5;130;01m\\n\u001b[39;00m\u001b[38;5;124m'\u001b[39m\n",
      "\u001b[0;31mValueError\u001b[0m: too many values to unpack (expected 2)"
     ]
    }
   ],
   "source": [
    "# Helper function to visualize graphs\n",
    "%dotstr utils.viz_graph(nodes, edges)"
   ]
  },
  {
   "cell_type": "code",
   "execution_count": null,
   "id": "3c4f6bfc",
   "metadata": {},
   "outputs": [],
   "source": [
    "# Main assembly algorithm\n",
    "\n",
    "def assemble_sequence(nodes, edges):\n",
    "    assembled_sequence = \"\"\n",
    "    # Your code here\n",
    "    return assembled_sequence"
   ]
  },
  {
   "cell_type": "code",
   "execution_count": null,
   "id": "a5b1b2e3",
   "metadata": {},
   "outputs": [],
   "source": [
    "# Output assembled sequence\n",
    "# Hint: Sequence is 300 nucleotides long\n",
    "\n",
    "assmebled_seq = assemble_sequence(nodes, edges)"
   ]
  },
  {
   "cell_type": "markdown",
   "id": "91454973",
   "metadata": {},
   "source": [
    "<div class=\"alert alert-success\"> \n",
    "    \n",
    "**Problem 6.** Which of the two assembly methods did you use for problem 5, and why? (Hint: consider how the costs scale with the number of reads.)\n",
    "    \n",
    "</div>"
   ]
  },
  {
   "cell_type": "markdown",
   "id": "9c68ae0c",
   "metadata": {},
   "source": [
    "## Part 2: Sequencing SARS-CoV-2 virus"
   ]
  },
  {
   "cell_type": "markdown",
   "id": "bb9104f8",
   "metadata": {},
   "source": [
    "Let's move on from TeleTubbies to real-world organisms. For this problem, you'll assemble a genome for a variant of the SARS-CoV-2 virus. You're given reads from <i>actual</i> genome sequencing runs in the provided `SARS-CoV2.fastq` file. The file is based on the first Covid genome that was submitted on 5 January 2020: [https://www.ncbi.nlm.nih.gov/nuccore/NC_045512](https://www.ncbi.nlm.nih.gov/nuccore/NC_045512) But, you should be reconstructing a sequence from the provided reads without looking at the source sequence.\n",
    "\n",
    "<div class=\"alert alert-success\">\n",
    "    \n",
    "**Problem 7.**  Reconstruct the SATS-CoV2 genome from the provided sequence reads using $k=25$. \n",
    "    \n",
    "</div>\n",
    "\n",
    "You can re-use your implementation from Problem 5 and simply run it on the new data (depending on what you did for Problem 5, that might be enough to solve this problem). \n",
    "\n",
    "Print out your reconstructed sequence to a file `output.txt` (and add this file to the repo you submit). For this part, we will still assume that all the reads are error-free. "
   ]
  },
  {
   "cell_type": "code",
   "execution_count": null,
   "id": "490daca9",
   "metadata": {},
   "outputs": [],
   "source": [
    "# Read sequence reads\n",
    "sequence_reads_covid, qualities_covid = utils.read_fastq('SARS-CoV2.fastq')"
   ]
  },
  {
   "cell_type": "code",
   "execution_count": null,
   "id": "3dfbe110",
   "metadata": {},
   "outputs": [],
   "source": [
    "# Read reads into graph\n",
    "nodes_covid, edges_covid = build_graph(sequence_reads_covid)"
   ]
  },
  {
   "cell_type": "code",
   "execution_count": null,
   "id": "011414e6",
   "metadata": {},
   "outputs": [],
   "source": [
    "# Call main assembly algorithm\n",
    "assmebled_covid_seq = assemble_sequence(nodes_covid, edges_covid)"
   ]
  },
  {
   "cell_type": "code",
   "execution_count": null,
   "id": "b8818bf5",
   "metadata": {},
   "outputs": [],
   "source": [
    "# Write assembled sequence to file\n",
    "with open(\"output.txt\", \"w\") as f:\n",
    "    f.write(assmebled_covid_seq)"
   ]
  },
  {
   "cell_type": "markdown",
   "id": "a3cc7d97",
   "metadata": {},
   "source": [
    "# Part 3: Error-Aware Assembly (Challenge Problem)"
   ]
  },
  {
   "cell_type": "markdown",
   "id": "9c03fa24",
   "metadata": {},
   "source": [
    "<div class=\"alert alert-warning\">\n",
    "    This problem is a \"Challenge Problem\". This means it is a problem of unknown difficulty that might be quite challenging (unlike the earlier problems, we don't have a reference solution for this one, or a clear idea how hard it might be). We do hope all students will at least attempt this and that more ambitious students will work hard to solve it and learn interesting things by the attempt (whether or not it is successful), but not get frustrated if you can't get to the desired answer.  As a \"Challenge Problem\" it means that you shouldn't be worried if you are not able to solve this, though, and you can get full expected credit on this assignment without answering it.\n",
    "</div>\n",
    "\n",
    "\n",
    "In the parts above, we assumed error-free reads while assembling $k$-mers. As much as we'd like that, actual reads can (and do) have errors, captured by their Phred scores. \n",
    "\n",
    "For this question, you're given raw, actual reads from sequencing runs. Download the reads from this file:\n",
    "https://sra-pub-sars-cov2.s3.amazonaws.com/sra-src/SRR11528307/ABS2-LN-R1_cleaned_paired.fastq.gz.  \n",
    "\n",
    "\n",
    "<div class=\"alert alert-success\">\n",
    "    \n",
    "**Problem 8 (Challenge).** Give the reads in the linked fastq file above, including their Phred33 quality score, assemble the most likely genome. Your solution should output the assembled sequence in `challenge.txt`. Provide a brief explantion of how your algorithm works and interesting things you learned in developing it.\n",
    "    \n",
    "</div>\n",
    "    \n",
    "This is an open-ended question. You are free to use any approach to deal with the issue. Make sure you provide your code, along with any assumptions you may have."
   ]
  },
  {
   "cell_type": "markdown",
   "id": "5d7e82e1",
   "metadata": {},
   "source": [
    "_Write a description of your algorithm, and things you learned from working on this here._"
   ]
  },
  {
   "cell_type": "code",
   "execution_count": null,
   "id": "4594e10b",
   "metadata": {},
   "outputs": [],
   "source": [
    "# implementation "
   ]
  },
  {
   "cell_type": "markdown",
   "id": "89a97c21",
   "metadata": {},
   "source": [
    "   <div class=\"alert alert-block alert-danger\">\n",
    "    <center>\n",
    "        \n",
    " **Remember to follow the submission directions above to submit your assignment by 4:59pm on Tuesday, 8 February.**\n",
    "    \n",
    " </center>\n",
    " </div>"
   ]
  }
 ],
 "metadata": {
  "kernelspec": {
   "display_name": "Python 3 (ipykernel)",
   "language": "python",
   "name": "python3"
  },
  "language_info": {
   "codemirror_mode": {
    "name": "ipython",
    "version": 3
   },
   "file_extension": ".py",
   "mimetype": "text/x-python",
   "name": "python",
   "nbconvert_exporter": "python",
   "pygments_lexer": "ipython3",
   "version": "3.9.5"
  }
 },
 "nbformat": 4,
 "nbformat_minor": 5
}
